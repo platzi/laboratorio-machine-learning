{
 "cells": [
  {
   "cell_type": "code",
   "execution_count": 1,
   "id": "9de64c0d-889e-483d-9921-25cbe60cedf4",
   "metadata": {},
   "outputs": [],
   "source": [
    "import os\n",
    "import pandas as pd"
   ]
  },
  {
   "cell_type": "code",
   "execution_count": 2,
   "id": "ddef4e47-253e-427f-b3c5-0f3f6cdacbac",
   "metadata": {},
   "outputs": [],
   "source": [
    "# Cambiar directorio\n",
    "os.chdir(\"..\")"
   ]
  },
  {
   "cell_type": "code",
   "execution_count": 3,
   "id": "45a2377a-c148-44d4-b936-800d57362bcb",
   "metadata": {},
   "outputs": [],
   "source": [
    "# Cargar los datos que tenemos disponibles\n",
    "data = pd.read_csv(\"data/raw/churn.csv\")\n"
   ]
  },
  {
   "cell_type": "code",
   "execution_count": 4,
   "id": "e6e35832-17f4-43b3-adcc-5de303725f8d",
   "metadata": {},
   "outputs": [
    {
     "data": {
      "text/html": [
       "<div>\n",
       "<style scoped>\n",
       "    .dataframe tbody tr th:only-of-type {\n",
       "        vertical-align: middle;\n",
       "    }\n",
       "\n",
       "    .dataframe tbody tr th {\n",
       "        vertical-align: top;\n",
       "    }\n",
       "\n",
       "    .dataframe thead th {\n",
       "        text-align: right;\n",
       "    }\n",
       "</style>\n",
       "<table border=\"1\" class=\"dataframe\">\n",
       "  <thead>\n",
       "    <tr style=\"text-align: right;\">\n",
       "      <th></th>\n",
       "      <th>RowNumber</th>\n",
       "      <th>CustomerId</th>\n",
       "      <th>Surname</th>\n",
       "      <th>CreditScore</th>\n",
       "      <th>Geography</th>\n",
       "      <th>Gender</th>\n",
       "      <th>Age</th>\n",
       "      <th>Tenure</th>\n",
       "      <th>Balance</th>\n",
       "      <th>NumOfProducts</th>\n",
       "      <th>HasCrCard</th>\n",
       "      <th>IsActiveMember</th>\n",
       "      <th>EstimatedSalary</th>\n",
       "      <th>Exited</th>\n",
       "    </tr>\n",
       "  </thead>\n",
       "  <tbody>\n",
       "    <tr>\n",
       "      <th>0</th>\n",
       "      <td>1</td>\n",
       "      <td>15634602</td>\n",
       "      <td>Hargrave</td>\n",
       "      <td>619</td>\n",
       "      <td>France</td>\n",
       "      <td>Female</td>\n",
       "      <td>42</td>\n",
       "      <td>2</td>\n",
       "      <td>0.00</td>\n",
       "      <td>1</td>\n",
       "      <td>1</td>\n",
       "      <td>1</td>\n",
       "      <td>101348.88</td>\n",
       "      <td>1</td>\n",
       "    </tr>\n",
       "    <tr>\n",
       "      <th>1</th>\n",
       "      <td>2</td>\n",
       "      <td>15647311</td>\n",
       "      <td>Hill</td>\n",
       "      <td>608</td>\n",
       "      <td>Spain</td>\n",
       "      <td>Female</td>\n",
       "      <td>41</td>\n",
       "      <td>1</td>\n",
       "      <td>83807.86</td>\n",
       "      <td>1</td>\n",
       "      <td>0</td>\n",
       "      <td>1</td>\n",
       "      <td>112542.58</td>\n",
       "      <td>0</td>\n",
       "    </tr>\n",
       "    <tr>\n",
       "      <th>2</th>\n",
       "      <td>3</td>\n",
       "      <td>15619304</td>\n",
       "      <td>Onio</td>\n",
       "      <td>502</td>\n",
       "      <td>France</td>\n",
       "      <td>Female</td>\n",
       "      <td>42</td>\n",
       "      <td>8</td>\n",
       "      <td>159660.80</td>\n",
       "      <td>3</td>\n",
       "      <td>1</td>\n",
       "      <td>0</td>\n",
       "      <td>113931.57</td>\n",
       "      <td>1</td>\n",
       "    </tr>\n",
       "    <tr>\n",
       "      <th>3</th>\n",
       "      <td>4</td>\n",
       "      <td>15701354</td>\n",
       "      <td>Boni</td>\n",
       "      <td>699</td>\n",
       "      <td>France</td>\n",
       "      <td>Female</td>\n",
       "      <td>39</td>\n",
       "      <td>1</td>\n",
       "      <td>0.00</td>\n",
       "      <td>2</td>\n",
       "      <td>0</td>\n",
       "      <td>0</td>\n",
       "      <td>93826.63</td>\n",
       "      <td>0</td>\n",
       "    </tr>\n",
       "    <tr>\n",
       "      <th>4</th>\n",
       "      <td>5</td>\n",
       "      <td>15737888</td>\n",
       "      <td>Mitchell</td>\n",
       "      <td>850</td>\n",
       "      <td>Spain</td>\n",
       "      <td>Female</td>\n",
       "      <td>43</td>\n",
       "      <td>2</td>\n",
       "      <td>125510.82</td>\n",
       "      <td>1</td>\n",
       "      <td>1</td>\n",
       "      <td>1</td>\n",
       "      <td>79084.10</td>\n",
       "      <td>0</td>\n",
       "    </tr>\n",
       "  </tbody>\n",
       "</table>\n",
       "</div>"
      ],
      "text/plain": [
       "   RowNumber  CustomerId   Surname  CreditScore Geography  Gender  Age  \\\n",
       "0          1    15634602  Hargrave          619    France  Female   42   \n",
       "1          2    15647311      Hill          608     Spain  Female   41   \n",
       "2          3    15619304      Onio          502    France  Female   42   \n",
       "3          4    15701354      Boni          699    France  Female   39   \n",
       "4          5    15737888  Mitchell          850     Spain  Female   43   \n",
       "\n",
       "   Tenure    Balance  NumOfProducts  HasCrCard  IsActiveMember  \\\n",
       "0       2       0.00              1          1               1   \n",
       "1       1   83807.86              1          0               1   \n",
       "2       8  159660.80              3          1               0   \n",
       "3       1       0.00              2          0               0   \n",
       "4       2  125510.82              1          1               1   \n",
       "\n",
       "   EstimatedSalary  Exited  \n",
       "0        101348.88       1  \n",
       "1        112542.58       0  \n",
       "2        113931.57       1  \n",
       "3         93826.63       0  \n",
       "4         79084.10       0  "
      ]
     },
     "execution_count": 4,
     "metadata": {},
     "output_type": "execute_result"
    }
   ],
   "source": [
    "data.head(5)"
   ]
  },
  {
   "cell_type": "code",
   "execution_count": 5,
   "id": "3da27622-b70d-45bb-9efb-bd94bd4fb0a7",
   "metadata": {},
   "outputs": [],
   "source": [
    "# Nos deshacemos de las columnas que no contribuyen en mucho\n",
    "data = data.drop(data.columns[0:3], axis=1)"
   ]
  },
  {
   "cell_type": "code",
   "execution_count": 6,
   "id": "c6519a08-642b-4ce3-8800-bfd80be89989",
   "metadata": {},
   "outputs": [],
   "source": [
    "# Convertimos los datos en formato categorico, para más info: shorturl.at/y0269\n",
    "column_equivalence = {}\n",
    "features = list(data.columns)\n",
    "for i, column in enumerate(list([str(d) for d in data.dtypes])):\n",
    "    if column == \"object\":\n",
    "        data[data.columns[i]] = data[data.columns[i]].fillna(data[data.columns[i]].mode())\n",
    "        categorical_column = data[data.columns[i]].astype(\"category\")\n",
    "        current_column_equivalence = dict(enumerate(categorical_column.cat.categories))\n",
    "        column_equivalence[i] = dict((v,k) for k,v in current_column_equivalence.items())\n",
    "        data[data.columns[i]] = categorical_column.cat.codes\n",
    "    else:\n",
    "        data[data.columns[i]] = data[data.columns[i]].fillna(data[data.columns[i]].median())"
   ]
  },
  {
   "cell_type": "code",
   "execution_count": 7,
   "id": "1d48b3b8-f48c-4340-8d77-93e35054ecaf",
   "metadata": {},
   "outputs": [
    {
     "data": {
      "text/plain": [
       "{1: {'France': 0, 'Germany': 1, 'Spain': 2}, 2: {'Female': 0, 'Male': 1}}"
      ]
     },
     "execution_count": 7,
     "metadata": {},
     "output_type": "execute_result"
    }
   ],
   "source": [
    "column_equivalence"
   ]
  },
  {
   "cell_type": "code",
   "execution_count": 8,
   "id": "21e4ba90-1206-4ce6-bdc8-6986e6b93ef5",
   "metadata": {},
   "outputs": [],
   "source": [
    "# Vamos a crear un modelo de regresion logistica\n",
    "from sklearn.model_selection import train_test_split\n",
    "from sklearn.linear_model import LogisticRegression\n"
   ]
  },
  {
   "cell_type": "code",
   "execution_count": 9,
   "id": "f45f3df3-bcbe-45f3-820c-82867e36d012",
   "metadata": {},
   "outputs": [],
   "source": [
    "# Generar los datos para poder separar la variable de respuesta de los datos que tenemos disponibles\n",
    "X = data.copy()\n",
    "y = X.pop(data.columns[-1])"
   ]
  },
  {
   "cell_type": "code",
   "execution_count": 10,
   "id": "8a6ee78f-7c8b-4810-a763-c8b20155ec28",
   "metadata": {},
   "outputs": [],
   "source": [
    "# Separar los datos en datos de entrenamiento y testing\n",
    "X_train, X_test, y_train, y_test = train_test_split( X, y, test_size=0.33, random_state=42)"
   ]
  },
  {
   "cell_type": "code",
   "execution_count": 11,
   "id": "409f0391-4500-41fd-85a9-e501ecdd9329",
   "metadata": {},
   "outputs": [],
   "source": [
    "# Crear el modelo y entrenarlo\n",
    "clf_lin =  LogisticRegression(random_state=0, solver='lbfgs', multi_class='multinomial').fit(X, y)\n"
   ]
  },
  {
   "cell_type": "code",
   "execution_count": 12,
   "id": "753ab797-0b07-4e27-a497-9518034451a9",
   "metadata": {},
   "outputs": [
    {
     "data": {
      "text/plain": [
       "array([[2599,   58],\n",
       "       [ 597,   46]])"
      ]
     },
     "execution_count": 12,
     "metadata": {},
     "output_type": "execute_result"
    }
   ],
   "source": [
    "# Medir los resultados obtenidos\n",
    "from sklearn.metrics import confusion_matrix\n",
    "confusion_matrix(y_test, clf_lin.predict(X_test))\n"
   ]
  },
  {
   "cell_type": "code",
   "execution_count": 13,
   "id": "20f25624-4ba7-4c0d-a79a-590d1884b7d0",
   "metadata": {},
   "outputs": [],
   "source": [
    "# Generar el binario del modelo para reutilizarlo, equivalencia de variables categoricas y caracteristicas del modelo\n",
    "import pickle\n",
    "pickle.dump(clf_lin, open(\"models/model.pk\", \"wb\"))\n",
    "pickle.dump(column_equivalence, open(\"models/column_equivalence.pk\", \"wb\"))\n",
    "pickle.dump(features, open(\"models/features.pk\", \"wb\"))"
   ]
  }
 ],
 "metadata": {
  "kernelspec": {
   "display_name": "Python 3",
   "language": "python",
   "name": "python3"
  },
  "language_info": {
   "codemirror_mode": {
    "name": "ipython",
    "version": 3
   },
   "file_extension": ".py",
   "mimetype": "text/x-python",
   "name": "python",
   "nbconvert_exporter": "python",
   "pygments_lexer": "ipython3",
   "version": "3.11.5"
  }
 },
 "nbformat": 4,
 "nbformat_minor": 5
}
